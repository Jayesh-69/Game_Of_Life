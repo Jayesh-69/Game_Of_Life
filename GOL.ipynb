{
 "cells": [
  {
   "cell_type": "code",
   "execution_count": 69,
   "metadata": {},
   "outputs": [],
   "source": [
    "import pygame\n",
    "import time\n",
    "import numpy as np"
   ]
  },
  {
   "cell_type": "code",
   "execution_count": 70,
   "metadata": {},
   "outputs": [],
   "source": [
    "COLOR_BG = (10,10,10)\n",
    "COLOR_GRID = (40,40,40)\n",
    "COLOR_DIE_NEXT = (170,170,170)\n",
    "COLOR_ALIVE_NEXT = (255,255,255)"
   ]
  },
  {
   "cell_type": "code",
   "execution_count": 71,
   "metadata": {},
   "outputs": [],
   "source": [
    "def update(screen,cells,size,with_progress=False):\n",
    "    updated_cells = np.zeros((cells.shape[0],cells.shape[1]))\n",
    "\n",
    "    for row,col in np.ndindex(cells.shape):\n",
    "        alive = np.sum(cells[row-1:row+2,col-1:col+2]) - cells[row,col]\n",
    "        color = COLOR_BG if cells[row,col] == 0 else COLOR_ALIVE_NEXT\n",
    "\n",
    "        if cells[row,col] == 1:\n",
    "            if alive < 2 or alive > 3:\n",
    "                if with_progress:\n",
    "                    color = COLOR_DIE_NEXT\n",
    "            elif 2 <= alive <= 3:\n",
    "                updated_cells[row,col] = 1\n",
    "                if with_progress:\n",
    "                    color = COLOR_ALIVE_NEXT\n",
    "        else:\n",
    "            if alive == 3:\n",
    "                updated_cells[row,col] = 1\n",
    "                if with_progress:\n",
    "                    color = COLOR_ALIVE_NEXT\n",
    "        \n",
    "        pygame.draw.rect(screen,color,(col*size,row*size,size-1,size-1))\n",
    "    \n",
    "    return updated_cells\n"
   ]
  },
  {
   "cell_type": "code",
   "execution_count": 72,
   "metadata": {},
   "outputs": [],
   "source": [
    "def main():\n",
    "    pygame.init()\n",
    "    screen = pygame.display.set_mode((800,600))\n",
    "\n",
    "    cells = np.zeros((60,80))\n",
    "    screen.fill(COLOR_GRID)\n",
    "    update(screen,cells,10)\n",
    "\n",
    "    pygame.display.flip()\n",
    "    pygame.display.update()\n",
    "\n",
    "    running = False\n",
    "\n",
    "    while True:\n",
    "        for event in pygame.event.get():\n",
    "            if event.type == pygame.QUIT:\n",
    "                pygame.quit()\n",
    "                return\n",
    "            elif event.type == pygame.KEYDOWN:\n",
    "                running = not running\n",
    "                update(screen,cells,10)\n",
    "                pygame.display.update()\n",
    "            \n",
    "            if pygame.mouse.get_pressed()[0]:\n",
    "                pos = pygame.mouse.get_pos()\n",
    "                cells[pos[1]//10,pos[0]//10] = 1\n",
    "                update(screen,cells,10)\n",
    "                pygame.display.update()\n",
    "            \n",
    "        screen.fill(COLOR_GRID)\n",
    "\n",
    "        if running:\n",
    "            cells = update(screen,cells,10,with_progress=True)\n",
    "            pygame.display.update()\n",
    "            \n",
    "        time.sleep(0.01)\n",
    "                "
   ]
  },
  {
   "cell_type": "code",
   "execution_count": 73,
   "metadata": {},
   "outputs": [],
   "source": [
    "if __name__ == '__main__':\n",
    "    main()"
   ]
  }
 ],
 "metadata": {
  "kernelspec": {
   "display_name": "Python 3",
   "language": "python",
   "name": "python3"
  },
  "language_info": {
   "codemirror_mode": {
    "name": "ipython",
    "version": 3
   },
   "file_extension": ".py",
   "mimetype": "text/x-python",
   "name": "python",
   "nbconvert_exporter": "python",
   "pygments_lexer": "ipython3",
   "version": "3.10.4"
  },
  "orig_nbformat": 4,
  "vscode": {
   "interpreter": {
    "hash": "ff1918369b2f72f1990ce02b3d2bf81c2696794c6f16dafb57d3450db4b585e8"
   }
  }
 },
 "nbformat": 4,
 "nbformat_minor": 2
}
